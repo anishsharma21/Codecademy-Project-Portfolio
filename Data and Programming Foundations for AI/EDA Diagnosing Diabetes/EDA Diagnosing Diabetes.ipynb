{
 "cells": [
  {
   "cell_type": "markdown",
   "id": "f4c71b09",
   "metadata": {},
   "source": [
    "# EDA: Diagnosing Diabetes"
   ]
  },
  {
   "cell_type": "markdown",
   "id": "7cf00067",
   "metadata": {},
   "source": [
    "In this project, you'll imagine you are a data scientist interested in exploring data that looks at how certain diagnostic factors affect the diabetes outcome of women patients.\n",
    "\n",
    "You will use your EDA skills to help inspect, clean, and validate the data.\n",
    "\n",
    "**Note**: This [dataset](https://www.kaggle.com/uciml/pima-indians-diabetes-database) is from the National Institute of Diabetes and Digestive and Kidney Diseases. It contains the following columns:\n",
    "\n",
    "- `Pregnancies`: Number of times pregnant\n",
    "- `Glucose`: Plasma glucose concentration per 2 hours in an oral glucose tolerance test\n",
    "- `BloodPressure`: Diastolic blood pressure\n",
    "- `SkinThickness`: Triceps skinfold thickness\n",
    "- `Insulin`: 2-Hour serum insulin\n",
    "- `BMI`: Body mass index\n",
    "- `DiabetesPedigreeFunction`: Diabetes pedigree function\n",
    "- `Age`: Age (years)\n",
    "- `Outcome`: Class variable (0 or 1)\n",
    "\n",
    "Let's get started!"
   ]
  },
  {
   "cell_type": "markdown",
   "id": "6e1cc217",
   "metadata": {},
   "source": [
    "## Initial Inspection"
   ]
  },
  {
   "cell_type": "markdown",
   "id": "76684c5b",
   "metadata": {},
   "source": [
    "1. First, familiarize yourself with the dataset [here](https://www.kaggle.com/uciml/pima-indians-diabetes-database).\n",
    "\n",
    "   Look at each of the nine columns in the documentation.\n",
    "   \n",
    "   What do you expect each data type to be?"
   ]
  },
  {
   "cell_type": "markdown",
   "id": "f7bdb023",
   "metadata": {},
   "source": [
    "Expected data type for each column:\n",
    "\n",
    "- `Pregnancies`: \n",
    "- `Glucose`: \n",
    "- `BloodPressure`: \n",
    "- `SkinThickness`: \n",
    "- `Insulin`: \n",
    "- `BMI`: \n",
    "- `DiabetesPedigreeFunction`: \n",
    "- `Age`: \n",
    "- `Outcome`: "
   ]
  },
  {
   "cell_type": "markdown",
   "id": "fc54249b",
   "metadata": {},
   "source": [
    "2. Next, let's load in the diabetes data to start exploring.\n",
    "\n",
    "   Load the data in a variable called `diabetes_data` and print the first few rows.\n",
    "   \n",
    "   **Note**: The data is stored in a file called `diabetes.csv`."
   ]
  },
  {
   "cell_type": "code",
   "execution_count": 19,
   "id": "4839762f",
   "metadata": {},
   "outputs": [],
   "source": [
    "import pandas as pd\n",
    "import numpy as np\n",
    "\n",
    "diabetes_data = pd.read_csv('diabetes.csv')"
   ]
  },
  {
   "cell_type": "markdown",
   "id": "90d35b44",
   "metadata": {},
   "source": [
    "3. How many columns (features) does the data contain?"
   ]
  },
  {
   "cell_type": "code",
   "execution_count": 20,
   "id": "c7fc98c4",
   "metadata": {},
   "outputs": [
    {
     "name": "stdout",
     "output_type": "stream",
     "text": [
      "Number of columns: 9\n"
     ]
    }
   ],
   "source": [
    "print(f\"Number of columns: {len(diabetes_data.columns)}\")"
   ]
  },
  {
   "cell_type": "markdown",
   "id": "35d2bf80",
   "metadata": {},
   "source": [
    "4. How many rows (observations) does the data contain?"
   ]
  },
  {
   "cell_type": "code",
   "execution_count": 21,
   "id": "190b7a90",
   "metadata": {},
   "outputs": [
    {
     "name": "stdout",
     "output_type": "stream",
     "text": [
      "Number of rows: 768\n"
     ]
    }
   ],
   "source": [
    "print(f\"Number of rows: {len(diabetes_data)}\")"
   ]
  },
  {
   "cell_type": "markdown",
   "id": "65d8ddf0",
   "metadata": {},
   "source": [
    "## Further Inspection"
   ]
  },
  {
   "cell_type": "markdown",
   "id": "04e3c6ef",
   "metadata": {},
   "source": [
    "5. Let's inspect `diabetes_data` further.\n",
    "\n",
    "   Do any of the columns in the data contain null (missing) values?"
   ]
  },
  {
   "cell_type": "code",
   "execution_count": 22,
   "id": "d0fa3860",
   "metadata": {},
   "outputs": [
    {
     "data": {
      "text/plain": [
       "Pregnancies                 0\n",
       "Glucose                     0\n",
       "BloodPressure               0\n",
       "SkinThickness               0\n",
       "Insulin                     0\n",
       "BMI                         0\n",
       "DiabetesPedigreeFunction    0\n",
       "Age                         0\n",
       "Outcome                     0\n",
       "dtype: int64"
      ]
     },
     "execution_count": 22,
     "metadata": {},
     "output_type": "execute_result"
    }
   ],
   "source": [
    "diabetes_data.isnull().sum()"
   ]
  },
  {
   "cell_type": "markdown",
   "id": "8ee62c01",
   "metadata": {},
   "source": [
    "6. If you answered no to the question above, not so fast!\n",
    "\n",
    "   While it's technically true that none of the columns contain null values, that doesn't necessarily mean that the data isn't missing any values.\n",
    "   \n",
    "   When exploring data, you should always question your assumptions and try to dig deeper.\n",
    "   \n",
    "   To investigate further, calculate summary statistics on `diabetes_data` using the `.describe()` method."
   ]
  },
  {
   "cell_type": "code",
   "execution_count": 23,
   "id": "451efb00",
   "metadata": {},
   "outputs": [
    {
     "data": {
      "text/html": [
       "<div>\n",
       "<style scoped>\n",
       "    .dataframe tbody tr th:only-of-type {\n",
       "        vertical-align: middle;\n",
       "    }\n",
       "\n",
       "    .dataframe tbody tr th {\n",
       "        vertical-align: top;\n",
       "    }\n",
       "\n",
       "    .dataframe thead th {\n",
       "        text-align: right;\n",
       "    }\n",
       "</style>\n",
       "<table border=\"1\" class=\"dataframe\">\n",
       "  <thead>\n",
       "    <tr style=\"text-align: right;\">\n",
       "      <th></th>\n",
       "      <th>Pregnancies</th>\n",
       "      <th>Glucose</th>\n",
       "      <th>BloodPressure</th>\n",
       "      <th>SkinThickness</th>\n",
       "      <th>Insulin</th>\n",
       "      <th>BMI</th>\n",
       "      <th>DiabetesPedigreeFunction</th>\n",
       "      <th>Age</th>\n",
       "    </tr>\n",
       "  </thead>\n",
       "  <tbody>\n",
       "    <tr>\n",
       "      <th>count</th>\n",
       "      <td>768.00</td>\n",
       "      <td>768.00</td>\n",
       "      <td>768.00</td>\n",
       "      <td>768.00</td>\n",
       "      <td>768.00</td>\n",
       "      <td>768.00</td>\n",
       "      <td>768.00</td>\n",
       "      <td>768.00</td>\n",
       "    </tr>\n",
       "    <tr>\n",
       "      <th>mean</th>\n",
       "      <td>3.85</td>\n",
       "      <td>120.89</td>\n",
       "      <td>69.11</td>\n",
       "      <td>20.54</td>\n",
       "      <td>79.80</td>\n",
       "      <td>31.99</td>\n",
       "      <td>0.47</td>\n",
       "      <td>33.24</td>\n",
       "    </tr>\n",
       "    <tr>\n",
       "      <th>std</th>\n",
       "      <td>3.37</td>\n",
       "      <td>31.97</td>\n",
       "      <td>19.36</td>\n",
       "      <td>15.95</td>\n",
       "      <td>115.24</td>\n",
       "      <td>7.88</td>\n",
       "      <td>0.33</td>\n",
       "      <td>11.76</td>\n",
       "    </tr>\n",
       "    <tr>\n",
       "      <th>min</th>\n",
       "      <td>0.00</td>\n",
       "      <td>0.00</td>\n",
       "      <td>0.00</td>\n",
       "      <td>0.00</td>\n",
       "      <td>0.00</td>\n",
       "      <td>0.00</td>\n",
       "      <td>0.08</td>\n",
       "      <td>21.00</td>\n",
       "    </tr>\n",
       "    <tr>\n",
       "      <th>25%</th>\n",
       "      <td>1.00</td>\n",
       "      <td>99.00</td>\n",
       "      <td>62.00</td>\n",
       "      <td>0.00</td>\n",
       "      <td>0.00</td>\n",
       "      <td>27.30</td>\n",
       "      <td>0.24</td>\n",
       "      <td>24.00</td>\n",
       "    </tr>\n",
       "    <tr>\n",
       "      <th>50%</th>\n",
       "      <td>3.00</td>\n",
       "      <td>117.00</td>\n",
       "      <td>72.00</td>\n",
       "      <td>23.00</td>\n",
       "      <td>30.50</td>\n",
       "      <td>32.00</td>\n",
       "      <td>0.37</td>\n",
       "      <td>29.00</td>\n",
       "    </tr>\n",
       "    <tr>\n",
       "      <th>75%</th>\n",
       "      <td>6.00</td>\n",
       "      <td>140.25</td>\n",
       "      <td>80.00</td>\n",
       "      <td>32.00</td>\n",
       "      <td>127.25</td>\n",
       "      <td>36.60</td>\n",
       "      <td>0.63</td>\n",
       "      <td>41.00</td>\n",
       "    </tr>\n",
       "    <tr>\n",
       "      <th>max</th>\n",
       "      <td>17.00</td>\n",
       "      <td>199.00</td>\n",
       "      <td>122.00</td>\n",
       "      <td>99.00</td>\n",
       "      <td>846.00</td>\n",
       "      <td>67.10</td>\n",
       "      <td>2.42</td>\n",
       "      <td>81.00</td>\n",
       "    </tr>\n",
       "  </tbody>\n",
       "</table>\n",
       "</div>"
      ],
      "text/plain": [
       "       Pregnancies  Glucose  BloodPressure  SkinThickness  Insulin     BMI  \\\n",
       "count       768.00   768.00         768.00         768.00   768.00  768.00   \n",
       "mean          3.85   120.89          69.11          20.54    79.80   31.99   \n",
       "std           3.37    31.97          19.36          15.95   115.24    7.88   \n",
       "min           0.00     0.00           0.00           0.00     0.00    0.00   \n",
       "25%           1.00    99.00          62.00           0.00     0.00   27.30   \n",
       "50%           3.00   117.00          72.00          23.00    30.50   32.00   \n",
       "75%           6.00   140.25          80.00          32.00   127.25   36.60   \n",
       "max          17.00   199.00         122.00          99.00   846.00   67.10   \n",
       "\n",
       "       DiabetesPedigreeFunction     Age  \n",
       "count                    768.00  768.00  \n",
       "mean                       0.47   33.24  \n",
       "std                        0.33   11.76  \n",
       "min                        0.08   21.00  \n",
       "25%                        0.24   24.00  \n",
       "50%                        0.37   29.00  \n",
       "75%                        0.63   41.00  \n",
       "max                        2.42   81.00  "
      ]
     },
     "execution_count": 23,
     "metadata": {},
     "output_type": "execute_result"
    }
   ],
   "source": [
    "diabetes_data.describe().round(2)"
   ]
  },
  {
   "cell_type": "markdown",
   "id": "ad900272",
   "metadata": {},
   "source": [
    "7. Looking at the summary statistics, do you notice anything odd about the following columns?\n",
    "\n",
    "   - `Glucose`\n",
    "   - `BloodPressure`\n",
    "   - `SkinThickness`\n",
    "   - `Insulin`\n",
    "   - `BMI`"
   ]
  },
  {
   "cell_type": "markdown",
   "id": "7131eacb",
   "metadata": {},
   "source": [
    "**Your response to question 7**:"
   ]
  },
  {
   "cell_type": "markdown",
   "id": "3ed15b79",
   "metadata": {},
   "source": [
    "8. Do you spot any other outliers in the data?"
   ]
  },
  {
   "cell_type": "markdown",
   "id": "8a708e88",
   "metadata": {},
   "source": [
    "**Your response to question 8**:"
   ]
  },
  {
   "cell_type": "markdown",
   "id": "4b5bcf47",
   "metadata": {},
   "source": [
    "9. Let's see if we can get a more accurate view of the missing values in the data.\n",
    "\n",
    "   Use the following code to replace the instances of `0` with `NaN` in the five columns mentioned:\n",
    "   \n",
    "   ```py\n",
    "   diabetes_data[['Glucose', 'BloodPressure', 'SkinThickness', 'Insulin', 'BMI']] = diabetes_data[['Glucose', 'BloodPressure', 'SkinThickness', 'Insulin', 'BMI']].replace(0, np.NaN)\n",
    "   ```"
   ]
  },
  {
   "cell_type": "code",
   "execution_count": 24,
   "id": "623def40",
   "metadata": {},
   "outputs": [],
   "source": [
    "diabetes_data[['Glucose', 'BloodPressure', 'SkinThickness', 'Insulin', 'BMI']] = diabetes_data[['Glucose', 'BloodPressure', 'SkinThickness', 'Insulin', 'BMI']].replace(0, np.NaN)"
   ]
  },
  {
   "cell_type": "markdown",
   "id": "ad9fc71d",
   "metadata": {},
   "source": [
    "10. Next, check for missing (null) values in all of the columns just like you did in Step 5.\n",
    "\n",
    "    Now how many missing values are there?"
   ]
  },
  {
   "cell_type": "code",
   "execution_count": 25,
   "id": "1e4d2845",
   "metadata": {},
   "outputs": [
    {
     "data": {
      "text/plain": [
       "Pregnancies                   0\n",
       "Glucose                       5\n",
       "BloodPressure                35\n",
       "SkinThickness               227\n",
       "Insulin                     374\n",
       "BMI                          11\n",
       "DiabetesPedigreeFunction      0\n",
       "Age                           0\n",
       "Outcome                       0\n",
       "dtype: int64"
      ]
     },
     "execution_count": 25,
     "metadata": {},
     "output_type": "execute_result"
    }
   ],
   "source": [
    "diabetes_data.isnull().sum()"
   ]
  },
  {
   "cell_type": "markdown",
   "id": "4265329e",
   "metadata": {},
   "source": [
    "11. Let's take a closer look at these rows to get a better idea of _why_ some data might be missing.\n",
    "\n",
    "    Print out all the rows that contain missing (null) values."
   ]
  },
  {
   "cell_type": "code",
   "execution_count": 26,
   "id": "91f5b1fe",
   "metadata": {},
   "outputs": [
    {
     "data": {
      "text/html": [
       "<div>\n",
       "<style scoped>\n",
       "    .dataframe tbody tr th:only-of-type {\n",
       "        vertical-align: middle;\n",
       "    }\n",
       "\n",
       "    .dataframe tbody tr th {\n",
       "        vertical-align: top;\n",
       "    }\n",
       "\n",
       "    .dataframe thead th {\n",
       "        text-align: right;\n",
       "    }\n",
       "</style>\n",
       "<table border=\"1\" class=\"dataframe\">\n",
       "  <thead>\n",
       "    <tr style=\"text-align: right;\">\n",
       "      <th></th>\n",
       "      <th>Pregnancies</th>\n",
       "      <th>Glucose</th>\n",
       "      <th>BloodPressure</th>\n",
       "      <th>SkinThickness</th>\n",
       "      <th>Insulin</th>\n",
       "      <th>BMI</th>\n",
       "      <th>DiabetesPedigreeFunction</th>\n",
       "      <th>Age</th>\n",
       "      <th>Outcome</th>\n",
       "    </tr>\n",
       "  </thead>\n",
       "  <tbody>\n",
       "    <tr>\n",
       "      <th>0</th>\n",
       "      <td>6</td>\n",
       "      <td>148.0</td>\n",
       "      <td>72.0</td>\n",
       "      <td>35.0</td>\n",
       "      <td>NaN</td>\n",
       "      <td>33.6</td>\n",
       "      <td>0.627</td>\n",
       "      <td>50</td>\n",
       "      <td>1</td>\n",
       "    </tr>\n",
       "    <tr>\n",
       "      <th>1</th>\n",
       "      <td>1</td>\n",
       "      <td>85.0</td>\n",
       "      <td>66.0</td>\n",
       "      <td>29.0</td>\n",
       "      <td>NaN</td>\n",
       "      <td>26.6</td>\n",
       "      <td>0.351</td>\n",
       "      <td>31</td>\n",
       "      <td>0</td>\n",
       "    </tr>\n",
       "    <tr>\n",
       "      <th>2</th>\n",
       "      <td>8</td>\n",
       "      <td>183.0</td>\n",
       "      <td>64.0</td>\n",
       "      <td>NaN</td>\n",
       "      <td>NaN</td>\n",
       "      <td>23.3</td>\n",
       "      <td>0.672</td>\n",
       "      <td>32</td>\n",
       "      <td>1</td>\n",
       "    </tr>\n",
       "    <tr>\n",
       "      <th>5</th>\n",
       "      <td>5</td>\n",
       "      <td>116.0</td>\n",
       "      <td>74.0</td>\n",
       "      <td>NaN</td>\n",
       "      <td>NaN</td>\n",
       "      <td>25.6</td>\n",
       "      <td>0.201</td>\n",
       "      <td>30</td>\n",
       "      <td>0</td>\n",
       "    </tr>\n",
       "    <tr>\n",
       "      <th>7</th>\n",
       "      <td>10</td>\n",
       "      <td>115.0</td>\n",
       "      <td>NaN</td>\n",
       "      <td>NaN</td>\n",
       "      <td>NaN</td>\n",
       "      <td>35.3</td>\n",
       "      <td>0.134</td>\n",
       "      <td>29</td>\n",
       "      <td>0</td>\n",
       "    </tr>\n",
       "    <tr>\n",
       "      <th>...</th>\n",
       "      <td>...</td>\n",
       "      <td>...</td>\n",
       "      <td>...</td>\n",
       "      <td>...</td>\n",
       "      <td>...</td>\n",
       "      <td>...</td>\n",
       "      <td>...</td>\n",
       "      <td>...</td>\n",
       "      <td>...</td>\n",
       "    </tr>\n",
       "    <tr>\n",
       "      <th>761</th>\n",
       "      <td>9</td>\n",
       "      <td>170.0</td>\n",
       "      <td>74.0</td>\n",
       "      <td>31.0</td>\n",
       "      <td>NaN</td>\n",
       "      <td>44.0</td>\n",
       "      <td>0.403</td>\n",
       "      <td>43</td>\n",
       "      <td>1</td>\n",
       "    </tr>\n",
       "    <tr>\n",
       "      <th>762</th>\n",
       "      <td>9</td>\n",
       "      <td>89.0</td>\n",
       "      <td>62.0</td>\n",
       "      <td>NaN</td>\n",
       "      <td>NaN</td>\n",
       "      <td>22.5</td>\n",
       "      <td>0.142</td>\n",
       "      <td>33</td>\n",
       "      <td>0</td>\n",
       "    </tr>\n",
       "    <tr>\n",
       "      <th>764</th>\n",
       "      <td>2</td>\n",
       "      <td>122.0</td>\n",
       "      <td>70.0</td>\n",
       "      <td>27.0</td>\n",
       "      <td>NaN</td>\n",
       "      <td>36.8</td>\n",
       "      <td>0.340</td>\n",
       "      <td>27</td>\n",
       "      <td>0</td>\n",
       "    </tr>\n",
       "    <tr>\n",
       "      <th>766</th>\n",
       "      <td>1</td>\n",
       "      <td>126.0</td>\n",
       "      <td>60.0</td>\n",
       "      <td>NaN</td>\n",
       "      <td>NaN</td>\n",
       "      <td>30.1</td>\n",
       "      <td>0.349</td>\n",
       "      <td>47</td>\n",
       "      <td>1</td>\n",
       "    </tr>\n",
       "    <tr>\n",
       "      <th>767</th>\n",
       "      <td>1</td>\n",
       "      <td>93.0</td>\n",
       "      <td>70.0</td>\n",
       "      <td>31.0</td>\n",
       "      <td>NaN</td>\n",
       "      <td>30.4</td>\n",
       "      <td>0.315</td>\n",
       "      <td>23</td>\n",
       "      <td>0</td>\n",
       "    </tr>\n",
       "  </tbody>\n",
       "</table>\n",
       "<p>376 rows × 9 columns</p>\n",
       "</div>"
      ],
      "text/plain": [
       "     Pregnancies  Glucose  BloodPressure  SkinThickness  Insulin   BMI  \\\n",
       "0              6    148.0           72.0           35.0      NaN  33.6   \n",
       "1              1     85.0           66.0           29.0      NaN  26.6   \n",
       "2              8    183.0           64.0            NaN      NaN  23.3   \n",
       "5              5    116.0           74.0            NaN      NaN  25.6   \n",
       "7             10    115.0            NaN            NaN      NaN  35.3   \n",
       "..           ...      ...            ...            ...      ...   ...   \n",
       "761            9    170.0           74.0           31.0      NaN  44.0   \n",
       "762            9     89.0           62.0            NaN      NaN  22.5   \n",
       "764            2    122.0           70.0           27.0      NaN  36.8   \n",
       "766            1    126.0           60.0            NaN      NaN  30.1   \n",
       "767            1     93.0           70.0           31.0      NaN  30.4   \n",
       "\n",
       "     DiabetesPedigreeFunction  Age Outcome  \n",
       "0                       0.627   50       1  \n",
       "1                       0.351   31       0  \n",
       "2                       0.672   32       1  \n",
       "5                       0.201   30       0  \n",
       "7                       0.134   29       0  \n",
       "..                        ...  ...     ...  \n",
       "761                     0.403   43       1  \n",
       "762                     0.142   33       0  \n",
       "764                     0.340   27       0  \n",
       "766                     0.349   47       1  \n",
       "767                     0.315   23       0  \n",
       "\n",
       "[376 rows x 9 columns]"
      ]
     },
     "execution_count": 26,
     "metadata": {},
     "output_type": "execute_result"
    }
   ],
   "source": [
    "diabetes_data[diabetes_data.isnull().any(axis=1)]"
   ]
  },
  {
   "cell_type": "markdown",
   "id": "e3f06a2e",
   "metadata": {},
   "source": [
    "12. Go through the rows with missing data. Do you notice any patterns or overlaps between the missing data?"
   ]
  },
  {
   "cell_type": "markdown",
   "id": "cb42cfe6",
   "metadata": {},
   "source": [
    "**Your response to question 12**:"
   ]
  },
  {
   "cell_type": "markdown",
   "id": "5b597d09",
   "metadata": {},
   "source": [
    "13. Next, take a closer look at the data types of each column in `diabetes_data`.\n",
    "\n",
    "    Does the result match what you would expect?"
   ]
  },
  {
   "cell_type": "code",
   "execution_count": 27,
   "id": "5855aa09",
   "metadata": {},
   "outputs": [
    {
     "data": {
      "text/plain": [
       "Pregnancies                   int64\n",
       "Glucose                     float64\n",
       "BloodPressure               float64\n",
       "SkinThickness               float64\n",
       "Insulin                     float64\n",
       "BMI                         float64\n",
       "DiabetesPedigreeFunction    float64\n",
       "Age                           int64\n",
       "Outcome                      object\n",
       "dtype: object"
      ]
     },
     "execution_count": 27,
     "metadata": {},
     "output_type": "execute_result"
    }
   ],
   "source": [
    "diabetes_data.dtypes"
   ]
  },
  {
   "cell_type": "markdown",
   "id": "c61b8b02",
   "metadata": {},
   "source": [
    "14. To figure out why the `Outcome` column is of type `object` (string) instead of type `int64`, print out the unique values in the `Outcome` column."
   ]
  },
  {
   "cell_type": "code",
   "execution_count": 28,
   "id": "ffedd117",
   "metadata": {},
   "outputs": [
    {
     "data": {
      "text/plain": [
       "Outcome\n",
       "0    494\n",
       "1    268\n",
       "O      6\n",
       "Name: count, dtype: int64"
      ]
     },
     "execution_count": 28,
     "metadata": {},
     "output_type": "execute_result"
    }
   ],
   "source": [
    "diabetes_data.Outcome.unique()\n",
    "diabetes_data.Outcome.value_counts()"
   ]
  },
  {
   "cell_type": "markdown",
   "id": "42b3bcbe",
   "metadata": {},
   "source": [
    "15. How might you resolve this issue?"
   ]
  },
  {
   "cell_type": "markdown",
   "id": "7495f5b6",
   "metadata": {},
   "source": [
    "**Your response to question 15**:"
   ]
  },
  {
   "cell_type": "markdown",
   "id": "9c5fbcbe",
   "metadata": {},
   "source": [
    "## Next Steps:"
   ]
  },
  {
   "cell_type": "markdown",
   "id": "22a324d0",
   "metadata": {},
   "source": [
    "16. Congratulations! In this project, you saw how EDA can help with the initial data inspection and cleaning process. This is an important step as it helps to keep your datasets clean and reliable.\n",
    "\n",
    "    Here are some ways you might extend this project if you'd like:\n",
    "    - Use `.value_counts()` to more fully explore the values in each column.\n",
    "    - Investigate other outliers in the data that may be easily overlooked.\n",
    "    - Instead of changing the `0` values in the five columns to `NaN`, try replacing the values with the median or mean of each column."
   ]
  },
  {
   "cell_type": "code",
   "execution_count": 31,
   "id": "b7f440b6",
   "metadata": {},
   "outputs": [
    {
     "data": {
      "text/plain": [
       "Outcome\n",
       "0    500\n",
       "1    268\n",
       "Name: count, dtype: int64"
      ]
     },
     "execution_count": 31,
     "metadata": {},
     "output_type": "execute_result"
    }
   ],
   "source": [
    "outcome_median = diabetes_data[diabetes_data.Outcome != 'O'].Outcome.astype('int').median()\n",
    "diabetes_data.Outcome = diabetes_data.Outcome.replace('O', str(int(outcome_median))).astype('int')\n",
    "diabetes_data.Outcome.value_counts()"
   ]
  }
 ],
 "metadata": {
  "kernelspec": {
   "display_name": "Python 3 (ipykernel)",
   "language": "python",
   "name": "python3"
  },
  "language_info": {
   "codemirror_mode": {
    "name": "ipython",
    "version": 3
   },
   "file_extension": ".py",
   "mimetype": "text/x-python",
   "name": "python",
   "nbconvert_exporter": "python",
   "pygments_lexer": "ipython3",
   "version": "3.12.1"
  }
 },
 "nbformat": 4,
 "nbformat_minor": 5
}
